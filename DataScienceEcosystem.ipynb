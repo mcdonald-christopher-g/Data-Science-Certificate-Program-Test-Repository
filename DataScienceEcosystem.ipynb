{
 "cells": [
  {
   "cell_type": "markdown",
   "id": "59f4ac78",
   "metadata": {},
   "source": [
    "# Data Science Tools and Ecosystem"
   ]
  },
  {
   "cell_type": "markdown",
   "id": "72a78c87",
   "metadata": {},
   "source": [
    "In this notebook, Data Science Tools and Ecosystem are summarized."
   ]
  },
  {
   "cell_type": "markdown",
   "id": "ffcba90f",
   "metadata": {},
   "source": [
    "__Objectives:__\n",
    "\n",
    "- Languages used in Data Science\n",
    "- Libraries used by Data Scientists\n",
    "- Arithmetic expressions"
   ]
  },
  {
   "cell_type": "markdown",
   "id": "16280e9c",
   "metadata": {},
   "source": [
    "Some of the popular languages that Data Scientists use are:\n",
    "\n",
    "1. Python\n",
    "2. R\n",
    "3. SQL\n",
    "4. and more"
   ]
  },
  {
   "cell_type": "markdown",
   "id": "4c2315bd",
   "metadata": {},
   "source": [
    "Some of the commonly used libraries used by Data Scientists include:\n",
    "\n",
    "1. Pandas\n",
    "2. NumPy\n",
    "3. Matplotlib\n",
    "4. and more"
   ]
  },
  {
   "cell_type": "markdown",
   "id": "641aa090",
   "metadata": {},
   "source": [
    "|Data Science Tools|\n",
    "|--------------------|\n",
    "|RStudio|\n",
    "|Pycharm|\n",
    "|IBM Watson Studio Desktop|"
   ]
  },
  {
   "cell_type": "markdown",
   "id": "c6ba9408",
   "metadata": {},
   "source": [
    "### Here are a few examples of evaluating arithmetic expressions in Python\n",
    "\n",
    "1. 2*3\n",
    "2. 2+3\n",
    "3. 2**3"
   ]
  },
  {
   "cell_type": "code",
   "execution_count": 3,
   "id": "8fe370f9",
   "metadata": {},
   "outputs": [
    {
     "data": {
      "text/plain": [
       "17"
      ]
     },
     "execution_count": 3,
     "metadata": {},
     "output_type": "execute_result"
    }
   ],
   "source": [
    "# This is a simple arithmetic expression to multiply then add integers\n",
    "(3*4)+5"
   ]
  },
  {
   "cell_type": "code",
   "execution_count": 4,
   "id": "7f7ba317",
   "metadata": {},
   "outputs": [
    {
     "name": "stdout",
     "output_type": "stream",
     "text": [
      "200 minutes is equivalent to 3.3333333333333335 hours.\n"
     ]
    }
   ],
   "source": [
    "# This will convert 200 minutes into hours by dividing by 60\n",
    "print('200 minutes is equivalent to', 200/60, 'hours.')"
   ]
  },
  {
   "cell_type": "markdown",
   "id": "0bc15376",
   "metadata": {},
   "source": [
    "## Author\n",
    "\n",
    "Christopher McDonald"
   ]
  }
 ],
 "metadata": {
  "kernelspec": {
   "display_name": "Python 3 (ipykernel)",
   "language": "python",
   "name": "python3"
  },
  "language_info": {
   "codemirror_mode": {
    "name": "ipython",
    "version": 3
   },
   "file_extension": ".py",
   "mimetype": "text/x-python",
   "name": "python",
   "nbconvert_exporter": "python",
   "pygments_lexer": "ipython3",
   "version": "3.11.7"
  }
 },
 "nbformat": 4,
 "nbformat_minor": 5
}
